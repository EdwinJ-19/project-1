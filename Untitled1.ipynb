{
 "cells": [
  {
   "cell_type": "code",
   "execution_count": null,
   "id": "6d48a533",
   "metadata": {},
   "outputs": [],
   "source": [
    "he file may be opened in one of the following modes:\n",
    "\n",
    "Modes\tDescription\n",
    "\n",
    "r\tOpen a file for read only. File pointer starts at the beginning of the file\n",
    "\n",
    "w\tOpen a file for write only. Erases the contents of the file or creates a new file if it doesn't exist. File pointer starts at the beginning of the file\n",
    "\n",
    "a\tOpen a file for write only. The existing data in file is preserved. File pointer starts at the end of the file. Creates a new file if the file doesn't exist\n",
    "\n",
    "x\tCreates a new file for write only. Returns FALSE and an error if file already exists\n",
    "\n",
    "r+\tOpen a file for read/write. File pointer starts at the beginning of the file\n",
    "\n",
    "w+\tOpen a file for read/write. Erases the contents of the file or creates a new file if it doesn't exist. File pointer starts at the beginning of the file\n",
    "\n",
    "a+\tOpen a file for read/write. The existing data in file is preserved. File pointer starts at the end of the file. Creates a new file if the file doesn't exist\n",
    "\n",
    "x+\tCreates a new file for read/write. Returns FALSE and an error if file already exists"
   ]
  },
  {
   "cell_type": "code",
   "execution_count": 5,
   "id": "6ad6929f",
   "metadata": {},
   "outputs": [
    {
     "name": "stdout",
     "output_type": "stream",
     "text": [
      "11\n"
     ]
    }
   ],
   "source": [
    "f=open(\"ab.txt\",\"w\")\n",
    "print(f.write(\"Hello every\"))\n",
    "f.close()"
   ]
  }
 ],
 "metadata": {
  "kernelspec": {
   "display_name": "Python 3 (ipykernel)",
   "language": "python",
   "name": "python3"
  },
  "language_info": {
   "codemirror_mode": {
    "name": "ipython",
    "version": 3
   },
   "file_extension": ".py",
   "mimetype": "text/x-python",
   "name": "python",
   "nbconvert_exporter": "python",
   "pygments_lexer": "ipython3",
   "version": "3.9.12"
  }
 },
 "nbformat": 4,
 "nbformat_minor": 5
}
