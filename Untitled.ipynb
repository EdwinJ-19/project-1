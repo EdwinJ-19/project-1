{
 "cells": [
  {
   "cell_type": "code",
   "execution_count": 1,
   "id": "9840e3c5",
   "metadata": {},
   "outputs": [],
   "source": []
  },
  {
   "cell_type": "code",
   "execution_count": 3,
   "id": "e6d5fc93",
   "metadata": {},
   "outputs": [],
   "source": [
    "import calc1"
   ]
  },
  {
   "cell_type": "code",
   "execution_count": 4,
   "id": "3c1f2176",
   "metadata": {},
   "outputs": [
    {
     "name": "stdout",
     "output_type": "stream",
     "text": [
      "5\n"
     ]
    }
   ],
   "source": [
    "print(calc1.add(2,3))"
   ]
  },
  {
   "cell_type": "code",
   "execution_count": null,
   "id": "15a7b259",
   "metadata": {},
   "outputs": [],
   "source": []
  },
  {
   "cell_type": "code",
   "execution_count": 6,
   "id": "337aa991",
   "metadata": {},
   "outputs": [
    {
     "name": "stdout",
     "output_type": "stream",
     "text": [
      "['C:\\\\Users\\\\admin\\\\Documents\\\\Akanksha', 'C:\\\\Users\\\\admin\\\\anaconda3\\\\python39.zip', 'C:\\\\Users\\\\admin\\\\anaconda3\\\\DLLs', 'C:\\\\Users\\\\admin\\\\anaconda3\\\\lib', 'C:\\\\Users\\\\admin\\\\anaconda3', '', 'C:\\\\Users\\\\admin\\\\anaconda3\\\\lib\\\\site-packages', 'C:\\\\Users\\\\admin\\\\anaconda3\\\\lib\\\\site-packages\\\\win32', 'C:\\\\Users\\\\admin\\\\anaconda3\\\\lib\\\\site-packages\\\\win32\\\\lib', 'C:\\\\Users\\\\admin\\\\anaconda3\\\\lib\\\\site-packages\\\\Pythonwin']\n"
     ]
    }
   ],
   "source": [
    "# importing sys module\n",
    "import sys\n",
    "\n",
    "# importing sys.path\n",
    "print(sys.path)\n"
   ]
  },
  {
   "cell_type": "code",
   "execution_count": 5,
   "id": "4c12c59e",
   "metadata": {},
   "outputs": [
    {
     "name": "stdout",
     "output_type": "stream",
     "text": [
      "4.0\n",
      "720\n"
     ]
    }
   ],
   "source": [
    "# importing sqrt() and factorial from the\n",
    "# module math\n",
    "from math import sqrt, factorial\n",
    "\n",
    "# if we simply do \"import math\", then\n",
    "# math.sqrt(16) and math.factorial()\n",
    "# are required.\n",
    "print(sqrt(16))\n",
    "print(factorial(6))"
   ]
  },
  {
   "cell_type": "code",
   "execution_count": 7,
   "id": "415ed4da",
   "metadata": {},
   "outputs": [
    {
     "name": "stdout",
     "output_type": "stream",
     "text": [
      "['BPF', 'LOG4', 'NV_MAGICCONST', 'RECIP_BPF', 'Random', 'SG_MAGICCONST', 'SystemRandom', 'TWOPI', '_Sequence', '_Set', '__all__', '__builtins__', '__cached__', '__doc__', '__file__', '__loader__', '__name__', '__package__', '__spec__', '_accumulate', '_acos', '_bisect', '_ceil', '_cos', '_e', '_exp', '_floor', '_inst', '_log', '_os', '_pi', '_random', '_repeat', '_sha512', '_sin', '_sqrt', '_test', '_test_generator', '_urandom', '_warn', 'betavariate', 'choice', 'choices', 'expovariate', 'gammavariate', 'gauss', 'getrandbits', 'getstate', 'lognormvariate', 'normalvariate', 'paretovariate', 'randbytes', 'randint', 'random', 'randrange', 'sample', 'seed', 'setstate', 'shuffle', 'triangular', 'uniform', 'vonmisesvariate', 'weibullvariate']\n"
     ]
    }
   ],
   "source": [
    "# Import built-in module random\n",
    "import random\n",
    "print(dir(random))\n"
   ]
  },
  {
   "cell_type": "code",
   "execution_count": 8,
   "id": "727ce847",
   "metadata": {},
   "outputs": [
    {
     "name": "stdout",
     "output_type": "stream",
     "text": [
      "['__doc__', '__loader__', '__name__', '__package__', '__spec__', 'acos', 'acosh', 'asin', 'asinh', 'atan', 'atan2', 'atanh', 'ceil', 'comb', 'copysign', 'cos', 'cosh', 'degrees', 'dist', 'e', 'erf', 'erfc', 'exp', 'expm1', 'fabs', 'factorial', 'floor', 'fmod', 'frexp', 'fsum', 'gamma', 'gcd', 'hypot', 'inf', 'isclose', 'isfinite', 'isinf', 'isnan', 'isqrt', 'lcm', 'ldexp', 'lgamma', 'log', 'log10', 'log1p', 'log2', 'modf', 'nan', 'nextafter', 'perm', 'pi', 'pow', 'prod', 'radians', 'remainder', 'sin', 'sinh', 'sqrt', 'tan', 'tanh', 'tau', 'trunc', 'ulp']\n"
     ]
    }
   ],
   "source": [
    "# Import built-in module random\n",
    "import math\n",
    "print(dir(math))\n"
   ]
  },
  {
   "cell_type": "code",
   "execution_count": 9,
   "id": "49cc7dd5",
   "metadata": {},
   "outputs": [
    {
     "name": "stdout",
     "output_type": "stream",
     "text": [
      "['Formatter', 'Template', '_ChainMap', '__all__', '__builtins__', '__cached__', '__doc__', '__file__', '__loader__', '__name__', '__package__', '__spec__', '_re', '_sentinel_dict', '_string', 'ascii_letters', 'ascii_lowercase', 'ascii_uppercase', 'capwords', 'digits', 'hexdigits', 'octdigits', 'printable', 'punctuation', 'whitespace']\n"
     ]
    }
   ],
   "source": [
    "import string\n",
    "print(dir(string))"
   ]
  },
  {
   "cell_type": "code",
   "execution_count": 61,
   "id": "8a470635",
   "metadata": {},
   "outputs": [
    {
     "name": "stdout",
     "output_type": "stream",
     "text": [
      "Random number between 5 and 15 is % s 11\n",
      "Random number between -10 and -2 is -3\n"
     ]
    }
   ],
   "source": [
    "# Python3 program explaining work\n",
    "# of randint() function\n",
    "\n",
    "# import random module\n",
    "import random\n",
    "\n",
    "# Generates a random number between\n",
    "# a given positive range\n",
    "r1 = random.randint(5, 15)\n",
    "print(\"Random number between 5 and 15 is % d\" % (r1))\n",
    "\n",
    "# Generates a random number between\n",
    "# two given negative range\n",
    "r2 = random.randint(-10, -2)\n",
    "print(\"Random number between -10 and -2 is % d\" % (r2))\n"
   ]
  },
  {
   "cell_type": "code",
   "execution_count": 63,
   "id": "195a34cf",
   "metadata": {},
   "outputs": [
    {
     "name": "stdout",
     "output_type": "stream",
     "text": [
      "0\n",
      "0.3085870405935047\n",
      "86.3051549506377\n",
      "4\n"
     ]
    }
   ],
   "source": [
    "# importing built in module random\n",
    "import random\n",
    "\n",
    "# printing random integer between 0 and 5\n",
    "print(random.randint(0, 5))\n",
    "\n",
    "# print random floating point number between 0 and 1\n",
    "print(random.random())\n",
    "\n",
    "# random number between 0 and 100\n",
    "print(random.random() * 100)\n",
    "\n",
    "List = [1, 4, True, 800, \"python\", 27, \"hello\"]\n",
    "\n",
    "# using choice function in random module for choosing\n",
    "# a random element from a set such as a list\n",
    "print(random.choice(List))\n"
   ]
  },
  {
   "cell_type": "code",
   "execution_count": 64,
   "id": "ba8969b8",
   "metadata": {},
   "outputs": [
    {
     "name": "stdout",
     "output_type": "stream",
     "text": [
      "0.7879419298192645\n"
     ]
    }
   ],
   "source": [
    "\n",
    "# print random floating point number between 0 and 1\n",
    "print(random.random())"
   ]
  },
  {
   "cell_type": "markdown",
   "id": "c37d8db0",
   "metadata": {},
   "source": [
    "Seed function is used to save the state of a random function, \n",
    "\n",
    "so that it can generate same random numbers on multiple executions of the code on the same \n",
    "\n",
    "machine or on different machines (for a specific seed value). The seed value is the \n",
    "\n",
    "previous value number generated by the generator.\n",
    "For the first time when there is no previous value, it uses current system time."
   ]
  },
  {
   "cell_type": "code",
   "execution_count": 129,
   "id": "2f76cb03",
   "metadata": {},
   "outputs": [
    {
     "name": "stdout",
     "output_type": "stream",
     "text": [
      "138\n"
     ]
    }
   ],
   "source": [
    "# random module is imported\n",
    "import random\n",
    "for i in range(5):\n",
    "\n",
    "# Any number can be used in place of '0'.\n",
    "    random.seed(1)\n",
    "\n",
    "# Generated random number will be between 1 to 1000.\n",
    "print(random.randint(1, 1000))\n"
   ]
  },
  {
   "cell_type": "code",
   "execution_count": 144,
   "id": "c8a9654c",
   "metadata": {},
   "outputs": [
    {
     "name": "stdout",
     "output_type": "stream",
     "text": [
      "244\n"
     ]
    }
   ],
   "source": [
    "# importing random module\n",
    "import random\n",
    "\n",
    "random.seed(3)\n",
    "\n",
    "# print a random number between 1 and 1000.\n",
    "print(random.randint(1, 1000))\n",
    "\n"
   ]
  },
  {
   "cell_type": "code",
   "execution_count": null,
   "id": "fb993461",
   "metadata": {},
   "outputs": [],
   "source": []
  },
  {
   "cell_type": "code",
   "execution_count": 148,
   "id": "8d8f2fbb",
   "metadata": {},
   "outputs": [
    {
     "name": "stdout",
     "output_type": "stream",
     "text": [
      "242\n"
     ]
    }
   ],
   "source": [
    "\n",
    "# if you want to get the same random number again then,\n",
    "random.seed(4)\n",
    "print(random.randint(1, 1000))\n",
    "\n",
    "\n"
   ]
  },
  {
   "cell_type": "code",
   "execution_count": 136,
   "id": "70ecca95",
   "metadata": {},
   "outputs": [
    {
     "name": "stdout",
     "output_type": "stream",
     "text": [
      "379\n"
     ]
    }
   ],
   "source": [
    "# If seed function is not used\n",
    "\n",
    "# Gives totally unpredictable responses.\n",
    "print(random.randint(1, 1000))"
   ]
  },
  {
   "cell_type": "code",
   "execution_count": null,
   "id": "56720f31",
   "metadata": {},
   "outputs": [],
   "source": [
    "# importing built-in module math\n",
    "import math\n",
    "\n",
    "# using square root(sqrt) function contained\n",
    "# in math module\n",
    "print(math.sqrt(25))\n",
    "\n",
    "# using pi function contained in math module\n",
    "print(math.pi)\n",
    "\n",
    "# 2 radians = 114.59 degrees\n",
    "print(math.degrees(2))\n",
    "\n",
    "# 60 degrees = 1.04 radians\n",
    "print(math.radians(60))\n",
    "\n",
    "# Sine of 2 radians\n",
    "print(math.sin(2))\n",
    "\n",
    "# Cosine of 0.5 radians\n",
    "print(math.cos(0.5))\n",
    "\n",
    "# Tangent of 0.23 radians\n",
    "print(math.tan(0.23))\n",
    "\n",
    "# 1 * 2 * 3 * 4 = 24\n",
    "print(math.factorial(4))\n"
   ]
  },
  {
   "cell_type": "code",
   "execution_count": 151,
   "id": "2f802174",
   "metadata": {},
   "outputs": [
    {
     "name": "stdout",
     "output_type": "stream",
     "text": [
      "1695870170.287801\n",
      "1970-01-06\n"
     ]
    }
   ],
   "source": [
    "# importing built in module datetime\n",
    "import datetime\n",
    "from datetime import date\n",
    "import time\n",
    "\n",
    "# Returns the number of seconds since the\n",
    "# Unix Epoch, January 1st 1970\n",
    "print(time.time())\n",
    "\n",
    "# Converts a number of seconds to a date object\n",
    "print(date.fromtimestamp(454554))\n"
   ]
  },
  {
   "cell_type": "code",
   "execution_count": 155,
   "id": "fd69ea06",
   "metadata": {},
   "outputs": [
    {
     "name": "stdout",
     "output_type": "stream",
     "text": [
      "2023-09-28\n"
     ]
    }
   ],
   "source": [
    "\n",
    "\n",
    "print(date.today())"
   ]
  },
  {
   "cell_type": "code",
   "execution_count": 156,
   "id": "25481c49",
   "metadata": {},
   "outputs": [
    {
     "name": "stdout",
     "output_type": "stream",
     "text": [
      "Windows\n"
     ]
    }
   ],
   "source": [
    "import platform\n",
    "\n",
    "x = platform.system()\n",
    "print(x)\n"
   ]
  },
  {
   "cell_type": "code",
   "execution_count": 157,
   "id": "9e1bf884",
   "metadata": {},
   "outputs": [
    {
     "name": "stdout",
     "output_type": "stream",
     "text": [
      "['MAXYEAR', 'MINYEAR', '__all__', '__builtins__', '__cached__', '__doc__', '__file__', '__loader__', '__name__', '__package__', '__spec__', 'date', 'datetime', 'datetime_CAPI', 'sys', 'time', 'timedelta', 'timezone', 'tzinfo']\n"
     ]
    }
   ],
   "source": [
    "import datetime\n",
    "print(dir(datetime))"
   ]
  },
  {
   "cell_type": "code",
   "execution_count": 158,
   "id": "fab1ebc7",
   "metadata": {},
   "outputs": [
    {
     "name": "stdout",
     "output_type": "stream",
     "text": [
      "abcdefghijklmnopqrstuvwxyzABCDEFGHIJKLMNOPQRSTUVWXYZ\n",
      "abcdefghijklmnopqrstuvwxyz\n",
      "ABCDEFGHIJKLMNOPQRSTUVWXYZ\n",
      "0123456789\n",
      "0123456789abcdefABCDEF\n",
      " \t\n",
      "\r",
      "\u000b",
      "\f",
      "\n",
      "!\"#$%&'()*+,-./:;<=>?@[\\]^_`{|}~\n"
     ]
    }
   ],
   "source": [
    "import string\n",
    "\n",
    "# string module constants\n",
    "print(string.ascii_letters)\n",
    "print(string.ascii_lowercase)\n",
    "print(string.ascii_uppercase)\n",
    "print(string.digits)\n",
    "print(string.hexdigits)\n",
    "print(string.whitespace)  # ' \\t\\n\\r\\x0b\\x0c'\n",
    "print(string.punctuation)"
   ]
  },
  {
   "cell_type": "code",
   "execution_count": 162,
   "id": "29a9f1d4",
   "metadata": {},
   "outputs": [
    {
     "name": "stdout",
     "output_type": "stream",
     "text": [
      "JournalDev\n",
      "Welcome to JournalDev\n",
      "Welcome to JournalDev\n"
     ]
    }
   ],
   "source": [
    "\n",
    "from string import Formatter\n",
    "\n",
    "f = Formatter()\n",
    "print(f.format('{website}', website='JournalDev'))\n",
    "print(f.format('{} {website}', 'Welcome to', website='JournalDev'))\n",
    "\n",
    "# format() behaves in similar manner\n",
    "print('{} {website}'.format('Welcome to', website='JournalDev'))"
   ]
  },
  {
   "cell_type": "code",
   "execution_count": 163,
   "id": "f7e5256d",
   "metadata": {},
   "outputs": [
    {
     "name": "stdout",
     "output_type": "stream",
     "text": [
      "Pankaj is the Founder of JournalDev.\n"
     ]
    }
   ],
   "source": [
    "\n",
    "from string import Template\n",
    "\n",
    "t = Template('$name is the $title of $company')\n",
    "s = t.substitute(name='Pankaj', title='Founder', company='JournalDev.')\n",
    "print(s)"
   ]
  },
  {
   "cell_type": "markdown",
   "id": "cd9dadf7",
   "metadata": {},
   "source": [
    "string capwords() function\n",
    "Python string module contains a single utility function – capwords(s, sep=None). \n",
    "This function split the specified string into words using str.split(). \n",
    "Then it capitalizes each word using str.capitalize() function. Finally, it joins the \n",
    "capitalized words using str.join().\n",
    "\n",
    "If the optional argument sep is not provided or None, then leading and \n",
    "trailing whitespaces are removed and words are separated with single whitespace. \n",
    "If it’s provided then the separator is used to split and join the words."
   ]
  },
  {
   "cell_type": "code",
   "execution_count": 164,
   "id": "c1c8c8b2",
   "metadata": {},
   "outputs": [
    {
     "name": "stdout",
     "output_type": "stream",
     "text": [
      "Welcome To Journaldev\n"
     ]
    }
   ],
   "source": [
    "import string\n",
    "s = '  welcome tO   journalDev '\n",
    "print(string.capwords(s))\n"
   ]
  },
  {
   "cell_type": "code",
   "execution_count": null,
   "id": "e01817e6",
   "metadata": {},
   "outputs": [],
   "source": [
    "In Python, date and time are not a data type of their own, but a module named datetime \n",
    "can be imported to work with the date as well as time. Python Datetime module comes built\n",
    "into Python, so there is no need to install it externally. \n",
    "\n",
    "Python Datetime module supplies classes to work with date and time. These classes provide a\n",
    "number of functions to deal with dates, times and time intervals. Date and datetime are an \n",
    "object in Python, so when you manipulate them, you are actually manipulating objects and not\n",
    "string or timestamps. \n",
    "\n",
    "The DateTime module is categorized into 6 main classes – \n",
    "\n",
    "date – An idealized naive date, assuming the current Gregorian calendar always was, and \n",
    "always will be, in effect. \n",
    "Its attributes are year, month and day.\n",
    "\n",
    "time – An idealized time, independent of any particular day, assuming that every day has\n",
    "exactly 24*60*60 seconds. \n",
    "Its attributes are hour, minute, second, microsecond, and tzinfo.\n",
    "\n",
    "datetime – Its a combination of date and time along with the attributes year, month, day, \n",
    "hour, minute, second, microsecond,\n",
    "and tzinfo.\n",
    "\n",
    "timedelta – A duration expressing the difference between two date, time, or datetime\n",
    "instances to microsecond resolution.\n",
    "\n",
    "tzinfo – It provides time zone information objects.\n",
    "\n",
    "timezone – A class that implements the tzinfo abstract base class as a fixed offset from \n",
    "the UTC (New in version 3.2)."
   ]
  },
  {
   "cell_type": "code",
   "execution_count": null,
   "id": "d340598b",
   "metadata": {},
   "outputs": [],
   "source": [
    "Date class\n",
    "The date class is used to instantiate date objects in Python. When an object of this class is \n",
    "instantiated,it represents a date in the format YYYY-MM-DD. Constructor of this class needs\n",
    "three mandatory arguments year, month and date.\n",
    "\n",
    "Constructor syntax:  \n",
    "\n",
    "class datetime.date(year, month, day)\n",
    "The arguments must be in the following range –  \n",
    "\n",
    "MINYEAR <= year <= MAXYEAR\n",
    "\n",
    "1 <= month <= 12\n",
    "\n",
    "1 <= day <= number of days in the given month and year\n",
    "\n",
    "Note – If the argument is not an integer it will raise a TypeError and if it is outside the \n",
    "range a ValueError will be raised. "
   ]
  },
  {
   "cell_type": "code",
   "execution_count": null,
   "id": "7f62cbb2",
   "metadata": {},
   "outputs": [],
   "source": []
  }
 ],
 "metadata": {
  "kernelspec": {
   "display_name": "Python 3 (ipykernel)",
   "language": "python",
   "name": "python3"
  },
  "language_info": {
   "codemirror_mode": {
    "name": "ipython",
    "version": 3
   },
   "file_extension": ".py",
   "mimetype": "text/x-python",
   "name": "python",
   "nbconvert_exporter": "python",
   "pygments_lexer": "ipython3",
   "version": "3.9.12"
  }
 },
 "nbformat": 4,
 "nbformat_minor": 5
}
